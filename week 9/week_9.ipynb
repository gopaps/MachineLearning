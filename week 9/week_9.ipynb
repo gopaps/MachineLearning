{
  "nbformat": 4,
  "nbformat_minor": 0,
  "metadata": {
    "colab": {
      "provenance": [],
      "authorship_tag": "ABX9TyPJb+AC5/fx7WP/yimSl+1R",
      "include_colab_link": true
    },
    "kernelspec": {
      "name": "python3",
      "display_name": "Python 3"
    },
    "language_info": {
      "name": "python"
    }
  },
  "cells": [
    {
      "cell_type": "markdown",
      "metadata": {
        "id": "view-in-github",
        "colab_type": "text"
      },
      "source": [
        "<a href=\"https://colab.research.google.com/github/gopaps/MachineLearning/blob/main/week%209/week_9.ipynb\" target=\"_parent\"><img src=\"https://colab.research.google.com/assets/colab-badge.svg\" alt=\"Open In Colab\"/></a>"
      ]
    },
    {
      "cell_type": "markdown",
      "source": [
        "# SVM Regression CreditDataset.csv"
      ],
      "metadata": {
        "id": "naMBpY68p_pU"
      }
    },
    {
      "cell_type": "code",
      "execution_count": 1,
      "metadata": {
        "id": "uPDOGbpmmZAG"
      },
      "outputs": [],
      "source": [
        "import pandas as pd\n",
        "import numpy as np\n",
        "from sklearn.model_selection import train_test_split\n",
        "from sklearn.preprocessing import StandardScaler, OneHotEncoder, LabelEncoder\n",
        "from sklearn.compose import ColumnTransformer\n",
        "from sklearn.svm import SVR\n",
        "from sklearn.metrics import mean_squared_error, mean_absolute_error, r2_score\n",
        "import matplotlib.pyplot as plt\n",
        "from google.colab import drive"
      ]
    },
    {
      "cell_type": "code",
      "source": [
        "# Mengintegrasikan Google Drive dengan Google Colab untuk mengakses dataset\n",
        "# Pastikan dataset telah diunggah ke Google Drive sebelum digunakan\n",
        "# Integrasi ini memungkinkan dataset di Google Drive digunakan langsung dalam analisis\n",
        "print(\"Menyambungkan Google Drive ke Google Colab...\")\n",
        "from google.colab import drive\n",
        "drive.mount('/content/drive')"
      ],
      "metadata": {
        "colab": {
          "base_uri": "https://localhost:8080/"
        },
        "id": "WtmLAraLmev2",
        "outputId": "2e33dad0-92e9-4aa8-9f32-ebb333bd63e5"
      },
      "execution_count": 14,
      "outputs": [
        {
          "output_type": "stream",
          "name": "stdout",
          "text": [
            "Menyambungkan Google Drive ke Google Colab...\n",
            "Mounted at /content/drive\n"
          ]
        }
      ]
    },
    {
      "cell_type": "code",
      "source": [
        "# Mengimpor dataset \"CreditDataset.csv\" yang tersimpan di Google Drive\n",
        "# Pastikan path file sesuai dengan lokasi file di dalam Google Drive Anda\n",
        "data = '/content/drive/My Drive/dataset/CreditDataset.csv'  # Lokasi file dataset\n",
        "df = pd.read_csv(data)  # Membaca file CSV dan menyimpannya dalam DataFrame\n"
      ],
      "metadata": {
        "id": "7UYWU4O4nHvD"
      },
      "execution_count": 15,
      "outputs": []
    },
    {
      "cell_type": "code",
      "source": [
        "# Menampilkan lima baris pertama dari dataset untuk memeriksa isi dan struktur data\n",
        "# Ini membantu memahami format data serta kolom yang tersedia dalam dataset\n",
        "print(\"Menampilkan sampel data:\")\n",
        "print(df.head())  # Menampilkan lima baris pertama dari DataFrame\n"
      ],
      "metadata": {
        "colab": {
          "base_uri": "https://localhost:8080/"
        },
        "id": "ye-k3XAYpAdi",
        "outputId": "92c38946-0b56-41fd-ecd2-4e09953c0539"
      },
      "execution_count": 16,
      "outputs": [
        {
          "output_type": "stream",
          "name": "stdout",
          "text": [
            "Menampilkan sampel data:\n",
            "    x1  x2   x3   x4    x5   x6   x7  x8   x9   x10  ...   x12 x13   x14  \\\n",
            "0  A11   6  A34  A43  1169  A65  A75   4  A93  A101  ...  A121  67  A143   \n",
            "1  A12  48  A32  A43  5951  A61  A73   2  A92  A101  ...  A121  22  A143   \n",
            "2  A14  12  A34  A46  2096  A61  A74   2  A93  A101  ...  A121  49  A143   \n",
            "3  A11  42  A32  A42  7882  A61  A74   2  A93  A103  ...  A122  45  A143   \n",
            "4  A11  24  A33  A40  4870  A61  A73   3  A93  A101  ...  A124  53  A143   \n",
            "\n",
            "    x15 x16   x17 x18   x19   x20 Class  \n",
            "0  A152   2  A173   1  A192  A201     1  \n",
            "1  A152   1  A173   1  A191  A201     2  \n",
            "2  A152   1  A172   2  A191  A201     1  \n",
            "3  A153   1  A173   2  A191  A201     1  \n",
            "4  A153   2  A173   2  A191  A201     2  \n",
            "\n",
            "[5 rows x 21 columns]\n"
          ]
        }
      ]
    },
    {
      "cell_type": "code",
      "source": [
        "# Memeriksa keberadaan nilai kosong dan mendapatkan informasi umum tentang dataset\n",
        "# Informasi ini mencakup jumlah baris, kolom, tipe data, dan jumlah nilai non-null\n",
        "print(\"Memeriksa informasi dataset dan keberadaan nilai kosong...\")\n",
        "print(df.info())  # Menampilkan ringkasan informasi tentang DataFrame\n"
      ],
      "metadata": {
        "colab": {
          "base_uri": "https://localhost:8080/"
        },
        "id": "wqtsxRpnpLME",
        "outputId": "01836d30-7ef2-4513-9aa7-445491c9d55f"
      },
      "execution_count": 17,
      "outputs": [
        {
          "output_type": "stream",
          "name": "stdout",
          "text": [
            "Memeriksa informasi dataset dan keberadaan nilai kosong...\n",
            "<class 'pandas.core.frame.DataFrame'>\n",
            "RangeIndex: 1000 entries, 0 to 999\n",
            "Data columns (total 21 columns):\n",
            " #   Column  Non-Null Count  Dtype \n",
            "---  ------  --------------  ----- \n",
            " 0   x1      1000 non-null   object\n",
            " 1   x2      1000 non-null   int64 \n",
            " 2   x3      1000 non-null   object\n",
            " 3   x4      1000 non-null   object\n",
            " 4   x5      1000 non-null   int64 \n",
            " 5   x6      1000 non-null   object\n",
            " 6   x7      1000 non-null   object\n",
            " 7   x8      1000 non-null   int64 \n",
            " 8   x9      1000 non-null   object\n",
            " 9   x10     1000 non-null   object\n",
            " 10  x11     1000 non-null   int64 \n",
            " 11  x12     1000 non-null   object\n",
            " 12  x13     1000 non-null   int64 \n",
            " 13  x14     1000 non-null   object\n",
            " 14  x15     1000 non-null   object\n",
            " 15  x16     1000 non-null   int64 \n",
            " 16  x17     1000 non-null   object\n",
            " 17  x18     1000 non-null   int64 \n",
            " 18  x19     1000 non-null   object\n",
            " 19  x20     1000 non-null   object\n",
            " 20  Class   1000 non-null   int64 \n",
            "dtypes: int64(8), object(13)\n",
            "memory usage: 164.2+ KB\n",
            "None\n"
          ]
        }
      ]
    },
    {
      "cell_type": "code",
      "source": [
        "# Menghapus baris yang mengandung nilai kosong (null) untuk membersihkan dataset\n",
        "# Langkah ini dilakukan agar data yang hilang tidak memengaruhi analisis atau performa model\n",
        "print(\"Membersihkan dataset dengan menghapus baris yang memiliki nilai null...\")\n",
        "df = df.dropna()  # Menghapus semua baris yang mengandung nilai null\n"
      ],
      "metadata": {
        "colab": {
          "base_uri": "https://localhost:8080/"
        },
        "id": "g5uUA1VQpPRj",
        "outputId": "1b3901d1-d0cf-431f-fe70-584eacb25ec7"
      },
      "execution_count": 18,
      "outputs": [
        {
          "output_type": "stream",
          "name": "stdout",
          "text": [
            "Membersihkan dataset dengan menghapus baris yang memiliki nilai null...\n"
          ]
        }
      ]
    },
    {
      "cell_type": "code",
      "source": [
        "# Memisahkan dataset menjadi fitur (X) dan target (y)\n",
        "# X berisi semua kolom kecuali kolom 'Class', yang menjadi target prediksi\n",
        "X = df.drop(columns=['Class'])  # Menghapus kolom 'Class' dari dataset untuk digunakan sebagai fitur\n",
        "y = df['Class']  # Menjadikan kolom 'Class' sebagai target\n"
      ],
      "metadata": {
        "id": "FFhHjpnHpi88"
      },
      "execution_count": 20,
      "outputs": []
    },
    {
      "cell_type": "code",
      "source": [
        "# Memisahkan kolom bertipe kategorikal dan numerik dalam dataset\n",
        "categorical_features = X.select_dtypes(include=['object']).columns  # Mendapatkan kolom bertipe kategorikal\n",
        "numeric_features = X.select_dtypes(include=['int64', 'float64']).columns  # Mendapatkan kolom bertipe numerik\n",
        "\n",
        "# Mengonversi fitur kategorikal menjadi numerik menggunakan LabelEncoder\n",
        "# LabelEncoder digunakan karena OneHotEncoder tidak selalu ideal untuk model seperti SVR\n",
        "print(\"Mengonversi fitur kategorikal ke numerik menggunakan LabelEncoder...\")\n",
        "label_encoders = {}  # Menyimpan encoder untuk setiap kolom\n",
        "for col in categorical_features:\n",
        "    le = LabelEncoder()\n",
        "    X[col] = le.fit_transform(X[col])  # Mengonversi kategori ke angka\n",
        "    label_encoders[col] = le  # Menyimpan encoder untuk keperluan dekripsi atau validasi di masa depan\n",
        "\n",
        "# Menstandarisasi fitur numerik agar memiliki distribusi seragam\n",
        "print(\"Melakukan standardisasi fitur numerik...\")\n",
        "scaler = StandardScaler()\n",
        "X[numeric_features] = scaler.fit_transform(X[numeric_features])  # Menstandarkan data numerik\n"
      ],
      "metadata": {
        "colab": {
          "base_uri": "https://localhost:8080/"
        },
        "id": "G39C3vSsprtj",
        "outputId": "4718b9a4-6dbd-4f4e-c8df-c0d91d5463db"
      },
      "execution_count": 21,
      "outputs": [
        {
          "output_type": "stream",
          "name": "stdout",
          "text": [
            "Mengonversi fitur kategorikal ke numerik menggunakan LabelEncoder...\n",
            "Melakukan standardisasi fitur numerik...\n"
          ]
        }
      ]
    },
    {
      "cell_type": "code",
      "source": [
        "# Membagi dataset menjadi data latih (train) dan data uji (test)\n",
        "# Sebanyak 80% data digunakan untuk melatih model dan 20% sisanya untuk menguji performa model\n",
        "print(\"Memisahkan dataset menjadi data latih dan data uji...\")\n",
        "X_train, X_test, y_train, y_test = train_test_split(X, y, test_size=0.2, random_state=42)\n"
      ],
      "metadata": {
        "colab": {
          "base_uri": "https://localhost:8080/"
        },
        "id": "zh5OVzlgpvIG",
        "outputId": "3f9f8861-4efd-47df-ffed-31588a365ded"
      },
      "execution_count": 22,
      "outputs": [
        {
          "output_type": "stream",
          "name": "stdout",
          "text": [
            "Memisahkan dataset menjadi data latih dan data uji...\n"
          ]
        }
      ]
    },
    {
      "cell_type": "code",
      "source": [
        "# Membuat model SVR (Support Vector Regression) dengan kernel RBF\n",
        "# Melatih model menggunakan data latih (train)\n",
        "print(\"Membangun model SVR dan melatihnya...\")\n",
        "svm_regressor = SVR(kernel='rbf')  # Menggunakan kernel Radial Basis Function (RBF)\n",
        "svm_regressor.fit(X_train, y_train)  # Melatih model dengan data latih\n",
        "\n",
        "# Melakukan prediksi menggunakan data uji (test)\n",
        "print(\"Melakukan prediksi menggunakan data uji...\")\n",
        "y_pred = svm_regressor.predict(X_test)  # Menghasilkan prediksi target untuk data uji\n"
      ],
      "metadata": {
        "colab": {
          "base_uri": "https://localhost:8080/"
        },
        "id": "Yt1GF046pzHT",
        "outputId": "491531ce-6c27-498e-f2e2-cc5fcce2f417"
      },
      "execution_count": 23,
      "outputs": [
        {
          "output_type": "stream",
          "name": "stdout",
          "text": [
            "Membangun model SVR dan melatihnya...\n",
            "Melakukan prediksi menggunakan data uji...\n"
          ]
        }
      ]
    },
    {
      "cell_type": "code",
      "source": [
        "# Menghitung metrik evaluasi untuk model regresi\n",
        "# Metrik yang digunakan: Mean Squared Error (MSE), Mean Absolute Error (MAE), dan R-Squared\n",
        "print(\"Evaluasi model sedang dilakukan...\")\n",
        "mse = mean_squared_error(y_test, y_pred)  # Menghitung Mean Squared Error\n",
        "mae = mean_absolute_error(y_test, y_pred)  # Menghitung Mean Absolute Error\n",
        "r2 = r2_score(y_test, y_pred)  # Menghitung nilai R-Squared\n",
        "\n",
        "# Menampilkan hasil evaluasi\n",
        "print(\"Mean Squared Error (MSE):\", mse)\n",
        "print(\"Mean Absolute Error (MAE):\", mae)\n",
        "print(\"R-Squared:\", r2)\n"
      ],
      "metadata": {
        "colab": {
          "base_uri": "https://localhost:8080/"
        },
        "id": "P53rDu3Ap3JV",
        "outputId": "4f5e8884-3fce-4dd1-be6a-d1d0df435306"
      },
      "execution_count": 24,
      "outputs": [
        {
          "output_type": "stream",
          "name": "stdout",
          "text": [
            "Evaluasi model sedang dilakukan...\n",
            "Mean Squared Error (MSE): 0.16564033566102623\n",
            "Mean Absolute Error (MAE): 0.2903990632076922\n",
            "R-Squared: 0.20355650601742403\n"
          ]
        }
      ]
    },
    {
      "cell_type": "code",
      "source": [
        "# Membuat visualisasi hasil prediksi dibandingkan dengan nilai sebenarnya\n",
        "# Scatter plot menunjukkan hubungan antara nilai prediksi dan nilai sebenarnya\n",
        "plt.figure(figsize=(10, 6))  # Mengatur ukuran figure untuk plot\n",
        "plt.scatter(y_test, y_pred, color='blue', alpha=0.5)  # Membuat scatter plot nilai prediksi vs nilai sebenarnya\n",
        "plt.plot([y_test.min(), y_test.max()], [y_test.min(), y_test.max()], color='red', lw=2)  # Garis diagonal ideal\n",
        "plt.xlabel('Nilai Sebenarnya')  # Memberi label pada sumbu X\n",
        "plt.ylabel('Nilai Prediksi')  # Memberi label pada sumbu Y\n",
        "plt.title('Nilai Sebenarnya vs Prediksi (SVR)')  # Menambahkan judul plot\n",
        "plt.show()  # Menampilkan plot\n"
      ],
      "metadata": {
        "colab": {
          "base_uri": "https://localhost:8080/",
          "height": 556
        },
        "id": "no50i-VBp9x5",
        "outputId": "502f1818-ad8a-4d98-9d51-11f097e01b14"
      },
      "execution_count": 25,
      "outputs": [
        {
          "output_type": "display_data",
          "data": {
            "text/plain": [
              "<Figure size 1000x600 with 1 Axes>"
            ],
            "image/png": "[encoded data removed]"
          },
          "metadata": {}
        }
      ]
    },
    {
      "cell_type": "markdown",
      "source": [
        "# SVM Classification MaterialStrength.csv"
      ],
      "metadata": {
        "id": "qMBDXoM-qMuO"
      }
    },
    {
      "cell_type": "code",
      "source": [
        "import pandas as pd\n",
        "import numpy as np\n",
        "from sklearn.model_selection import train_test_split\n",
        "from sklearn.preprocessing import StandardScaler, LabelEncoder\n",
        "from sklearn.svm import SVC\n",
        "from sklearn.metrics import accuracy_score, precision_score, recall_score, f1_score, roc_auc_score, roc_curve, confusion_matrix\n",
        "import matplotlib.pyplot as plt\n",
        "import seaborn as sns\n",
        "from google.colab import drive"
      ],
      "metadata": {
        "id": "BmnFzwtWqTQR"
      },
      "execution_count": 26,
      "outputs": []
    },
    {
      "cell_type": "code",
      "source": [
        "# Mengintegrasikan Google Drive dengan Google Colab untuk mengakses dataset\n",
        "# Pastikan dataset telah diunggah ke Google Drive sebelum digunakan\n",
        "# Integrasi ini memungkinkan dataset di Google Drive digunakan langsung dalam analisis\n",
        "print(\"Menyambungkan Google Drive ke Google Colab...\")\n",
        "from google.colab import drive\n",
        "drive.mount('/content/drive')"
      ],
      "metadata": {
        "colab": {
          "base_uri": "https://localhost:8080/"
        },
        "id": "GRLmwQF-qYrz",
        "outputId": "35dab255-ea31-4647-b5d9-945db98b8229"
      },
      "execution_count": 28,
      "outputs": [
        {
          "output_type": "stream",
          "name": "stdout",
          "text": [
            "Menyambungkan Google Drive ke Google Colab...\n",
            "Drive already mounted at /content/drive; to attempt to forcibly remount, call drive.mount(\"/content/drive\", force_remount=True).\n"
          ]
        }
      ]
    },
    {
      "cell_type": "code",
      "source": [
        "# Mengimpor dataset \"CreditDataset.csv\" yang tersimpan di Google Drive\n",
        "# Pastikan path file sesuai dengan lokasi file di dalam Google Drive Anda\n",
        "data = '/content/drive/My Drive/dataset/MaterialStrength.csv'  # Lokasi file dataset\n",
        "df = pd.read_csv(data)  # Membaca file CSV dan menyimpannya dalam DataFrame\n"
      ],
      "metadata": {
        "id": "i1rhDQxzqhrW"
      },
      "execution_count": 29,
      "outputs": []
    },
    {
      "cell_type": "code",
      "source": [
        "# Menampilkan lima baris pertama dari dataset untuk memeriksa isi dan struktur data\n",
        "# Ini membantu memahami format data serta kolom yang tersedia dalam dataset\n",
        "print(\"Menampilkan sampel data:\")\n",
        "print(df.head())  # Menampilkan lima baris pertama dari DataFrame\n"
      ],
      "metadata": {
        "colab": {
          "base_uri": "https://localhost:8080/"
        },
        "id": "ZKx6leFfqkaH",
        "outputId": "13089489-d0a4-4dd9-b475-b84e6d3788cf"
      },
      "execution_count": 30,
      "outputs": [
        {
          "output_type": "stream",
          "name": "stdout",
          "text": [
            "Menampilkan sampel data:\n",
            "      x1     x2   x3     x4   x5      x6     x7   x8        x9    x10  \\\n",
            "0  540.0    0.0  0.0  162.0  2.5  1040.0  676.0   28  0.300000  540.0   \n",
            "1  540.0    0.0  0.0  162.0  2.5  1055.0  676.0   28  0.300000  540.0   \n",
            "2  332.5  142.5  0.0  228.0  0.0   932.0  594.0  270  0.685714  475.0   \n",
            "3  332.5  142.5  0.0  228.0  0.0   932.0  594.0  365  0.685714  475.0   \n",
            "4  198.6  132.4  0.0  192.0  0.0   978.4  825.5  360  0.966767  331.0   \n",
            "\n",
            "        x11  x12       x13  x14  x15  target_feature  \n",
            "0  1.538462    1  0.350044  YEs   NO           79.99  \n",
            "1  1.560651    1  0.452416  yES  nOO           61.89  \n",
            "2  1.569024    0  6.704743  yEs   NO           40.27  \n",
            "3  1.569024    0  8.891596  yes  NOO           41.05  \n",
            "4  1.185221    0  8.126411  YeS   no           44.30  \n"
          ]
        }
      ]
    },
    {
      "cell_type": "code",
      "source": [
        "# Memeriksa keberadaan nilai kosong dan mendapatkan informasi umum tentang dataset\n",
        "# Informasi ini mencakup jumlah baris, kolom, tipe data, dan jumlah nilai non-null\n",
        "print(\"Memeriksa informasi dataset dan keberadaan nilai kosong...\")\n",
        "print(df.info())  # Menampilkan ringkasan informasi tentang DataFrame\n"
      ],
      "metadata": {
        "colab": {
          "base_uri": "https://localhost:8080/"
        },
        "id": "NbmTLQRXqpIL",
        "outputId": "05c72f59-99fb-49f3-84bd-62e01f86a90c"
      },
      "execution_count": 31,
      "outputs": [
        {
          "output_type": "stream",
          "name": "stdout",
          "text": [
            "Memeriksa informasi dataset dan keberadaan nilai kosong...\n",
            "<class 'pandas.core.frame.DataFrame'>\n",
            "RangeIndex: 1030 entries, 0 to 1029\n",
            "Data columns (total 16 columns):\n",
            " #   Column          Non-Null Count  Dtype  \n",
            "---  ------          --------------  -----  \n",
            " 0   x1              1030 non-null   float64\n",
            " 1   x2              1030 non-null   float64\n",
            " 2   x3              1030 non-null   float64\n",
            " 3   x4              1030 non-null   float64\n",
            " 4   x5              1030 non-null   float64\n",
            " 5   x6              1030 non-null   float64\n",
            " 6   x7              1030 non-null   float64\n",
            " 7   x8              1030 non-null   int64  \n",
            " 8   x9              1030 non-null   float64\n",
            " 9   x10             1030 non-null   float64\n",
            " 10  x11             1030 non-null   float64\n",
            " 11  x12             1030 non-null   int64  \n",
            " 12  x13             1030 non-null   float64\n",
            " 13  x14             1030 non-null   object \n",
            " 14  x15             1030 non-null   object \n",
            " 15  target_feature  1030 non-null   float64\n",
            "dtypes: float64(12), int64(2), object(2)\n",
            "memory usage: 128.9+ KB\n",
            "None\n"
          ]
        }
      ]
    },
    {
      "cell_type": "code",
      "source": [
        "# Menghapus baris yang mengandung nilai kosong (null) untuk membersihkan dataset\n",
        "# Langkah ini dilakukan agar data yang hilang tidak memengaruhi analisis atau performa model\n",
        "print(\"Membersihkan dataset dengan menghapus baris yang memiliki nilai null...\")\n",
        "df = df.dropna()  # Menghapus semua baris yang mengandung nilai null\n"
      ],
      "metadata": {
        "colab": {
          "base_uri": "https://localhost:8080/"
        },
        "id": "QF-r1uLkqtju",
        "outputId": "beb681aa-197f-466b-d022-bacaf592b6a8"
      },
      "execution_count": 32,
      "outputs": [
        {
          "output_type": "stream",
          "name": "stdout",
          "text": [
            "Membersihkan dataset dengan menghapus baris yang memiliki nilai null...\n"
          ]
        }
      ]
    },
    {
      "cell_type": "code",
      "source": [
        "# Memisahkan dataset menjadi fitur (X) dan target (y)\n",
        "# Fitur (X) adalah semua kolom kecuali kolom terakhir\n",
        "# Target (y) adalah kolom terakhir dalam dataset\n",
        "X = df.iloc[:, :-1]  # Memilih semua kolom kecuali kolom terakhir sebagai fitur\n",
        "y = df.iloc[:, -1]   # Memilih kolom terakhir sebagai target\n"
      ],
      "metadata": {
        "id": "Yk2MNTW7qx5T"
      },
      "execution_count": 33,
      "outputs": []
    },
    {
      "cell_type": "code",
      "source": [
        "# Mengubah target menjadi tipe kategorikal jika berupa nilai kontinu\n",
        "# Hal ini dilakukan agar target sesuai untuk model klasifikasi\n",
        "y = pd.cut(y, bins=2, labels=[0, 1]) if y.dtype in ['int64', 'float64'] else y\n",
        "\n",
        "# Mengidentifikasi fitur kategorikal dan numerik dalam dataset\n",
        "categorical_features = X.select_dtypes(include=['object']).columns  # Kolom bertipe kategorikal\n",
        "numeric_features = X.select_dtypes(include=['int64', 'float64']).columns  # Kolom bertipe numerik\n",
        "\n",
        "# Mengonversi fitur kategorikal menjadi numerik menggunakan LabelEncoder\n",
        "print(\"Mengonversi fitur kategorikal ke numerik...\")\n",
        "label_encoders = {}  # Untuk menyimpan encoder setiap kolom\n",
        "for col in categorical_features:\n",
        "    le = LabelEncoder()\n",
        "    X[col] = le.fit_transform(X[col])  # Mengubah nilai kategori ke angka\n",
        "    label_encoders[col] = le  # Menyimpan encoder untuk referensi ke depan\n",
        "\n",
        "# Menstandarisasi fitur numerik untuk menyamakan skala\n",
        "print(\"Menstandarisasi fitur numerik...\")\n",
        "scaler = StandardScaler()\n",
        "X[numeric_features] = scaler.fit_transform(X[numeric_features])  # Menstandarkan nilai numerik\n"
      ],
      "metadata": {
        "colab": {
          "base_uri": "https://localhost:8080/"
        },
        "id": "j8CT79Plq2-g",
        "outputId": "c358835b-7098-479b-bcad-dae7947ec629"
      },
      "execution_count": 34,
      "outputs": [
        {
          "output_type": "stream",
          "name": "stdout",
          "text": [
            "Mengonversi fitur kategorikal ke numerik...\n",
            "Menstandarisasi fitur numerik...\n"
          ]
        }
      ]
    },
    {
      "cell_type": "code",
      "source": [
        "# Membagi dataset menjadi data latih (train) dan data uji (test)\n",
        "# 80% data digunakan untuk melatih model, dan 20% data untuk menguji performa model\n",
        "print(\"Membagi dataset menjadi data latih dan data uji...\")\n",
        "X_train, X_test, y_train, y_test = train_test_split(X, y, test_size=0.2, random_state=42)\n"
      ],
      "metadata": {
        "colab": {
          "base_uri": "https://localhost:8080/"
        },
        "id": "2jSgRntbrAJM",
        "outputId": "9db64836-1824-4779-d9f7-99e71a0b2b4d"
      },
      "execution_count": 35,
      "outputs": [
        {
          "output_type": "stream",
          "name": "stdout",
          "text": [
            "Membagi dataset menjadi data latih dan data uji...\n"
          ]
        }
      ]
    },
    {
      "cell_type": "code",
      "source": [
        "# Membuat model klasifikasi menggunakan Support Vector Classification (SVC) dengan kernel RBF\n",
        "# Melatih model menggunakan data latih (train)\n",
        "print(\"Membangun model SVC dan melatihnya...\")\n",
        "svm_classifier = SVC(kernel='rbf', probability=True)  # Menggunakan kernel Radial Basis Function (RBF)\n",
        "svm_classifier.fit(X_train, y_train)  # Melatih model dengan data latih\n",
        "\n",
        "# Melakukan prediksi menggunakan data uji (test)\n",
        "print(\"Melakukan prediksi pada data uji...\")\n",
        "y_pred = svm_classifier.predict(X_test)  # Memprediksi target untuk data uji\n"
      ],
      "metadata": {
        "colab": {
          "base_uri": "https://localhost:8080/"
        },
        "id": "wfXPRmP6rHBw",
        "outputId": "1d1917af-f1bd-4a04-b023-e8426b21d996"
      },
      "execution_count": 36,
      "outputs": [
        {
          "output_type": "stream",
          "name": "stdout",
          "text": [
            "Membangun model SVC dan melatihnya...\n",
            "Melakukan prediksi pada data uji...\n"
          ]
        }
      ]
    },
    {
      "cell_type": "code",
      "source": [
        "# Menghitung metrik evaluasi untuk menilai kinerja model klasifikasi\n",
        "# Metrik yang digunakan: Akurasi, Presisi, Recall, F1 Score, dan AUC\n",
        "print(\"Melakukan evaluasi kinerja model...\")\n",
        "accuracy = accuracy_score(y_test, y_pred)  # Menghitung akurasi\n",
        "precision = precision_score(y_test, y_pred, average='weighted')  # Menghitung presisi (weighted)\n",
        "recall = recall_score(y_test, y_pred, average='weighted')  # Menghitung recall (weighted)\n",
        "f1 = f1_score(y_test, y_pred, average='weighted')  # Menghitung F1 Score (weighted)\n",
        "\n",
        "# Menghitung AUC jika target adalah biner\n",
        "y_prob = svm_classifier.predict_proba(X_test)[:, 1] if len(np.unique(y)) == 2 else None\n",
        "auc = roc_auc_score(y_test, y_prob) if y_prob is not None else 'N/A'  # Menghitung AUC jika memungkinkan\n",
        "\n",
        "# Menampilkan hasil evaluasi\n",
        "print(\"Akurasi:\", accuracy)\n",
        "print(\"Presisi (weighted):\", precision)\n",
        "print(\"Recall (weighted):\", recall)\n",
        "print(\"F1 Score (weighted):\", f1)\n",
        "print(\"AUC:\", auc)\n"
      ],
      "metadata": {
        "colab": {
          "base_uri": "https://localhost:8080/"
        },
        "id": "_CHJDK82rMLg",
        "outputId": "594ee9c9-844e-4b13-e879-ee79e99fee36"
      },
      "execution_count": 37,
      "outputs": [
        {
          "output_type": "stream",
          "name": "stdout",
          "text": [
            "Melakukan evaluasi kinerja model...\n",
            "Akurasi: 0.8155339805825242\n",
            "Presisi (weighted): 0.8113089134512831\n",
            "Recall (weighted): 0.8155339805825242\n",
            "F1 Score (weighted): 0.812030273260632\n",
            "AUC: 0.902127659574468\n"
          ]
        }
      ]
    },
    {
      "cell_type": "code",
      "source": [
        "# Membuat Confusion Matrix untuk mengevaluasi performa prediksi model\n",
        "print(\"Membuat Confusion Matrix...\")\n",
        "conf_matrix = confusion_matrix(y_test, y_pred)  # Menghitung confusion matrix\n",
        "sns.heatmap(conf_matrix, annot=True, cmap='Blues', fmt='g')  # Membuat heatmap untuk visualisasi\n",
        "plt.xlabel('Prediksi')  # Label sumbu X untuk prediksi\n",
        "plt.ylabel('Sebenarnya')  # Label sumbu Y untuk nilai sebenarnya\n",
        "plt.title('Confusion Matrix')  # Judul plot\n",
        "plt.show()  # Menampilkan plot\n"
      ],
      "metadata": {
        "colab": {
          "base_uri": "https://localhost:8080/",
          "height": 489
        },
        "id": "hsonsu4IrQRx",
        "outputId": "4e94a195-7dae-41d9-c114-f9ac1e9bb3aa"
      },
      "execution_count": 38,
      "outputs": [
        {
          "output_type": "stream",
          "name": "stdout",
          "text": [
            "Membuat Confusion Matrix...\n"
          ]
        },
        {
          "output_type": "display_data",
          "data": {
            "text/plain": [
              "<Figure size 640x480 with 2 Axes>"
            ],
            "image/png": "[encoded data removed]"
          },
          "metadata": {}
        }
      ]
    },
    {
      "cell_type": "code",
      "source": [
        "# Membuat ROC Curve untuk memvisualisasikan performa model jika klasifikasi biner\n",
        "if y_prob is not None:  # ROC Curve hanya dibuat jika target bersifat biner\n",
        "    print(\"Membuat ROC Curve...\")\n",
        "    fpr, tpr, _ = roc_curve(y_test, y_prob)  # Menghitung False Positive Rate (FPR) dan True Positive Rate (TPR)\n",
        "    plt.figure(figsize=(10, 6))  # Mengatur ukuran plot\n",
        "    plt.plot(fpr, tpr, color='blue', lw=2)  # Membuat kurva ROC\n",
        "    plt.plot([0, 1], [0, 1], color='red', linestyle='--')  # Menambahkan garis diagonal sebagai baseline\n",
        "    plt.xlabel('False Positive Rate')  # Label sumbu X\n",
        "    plt.ylabel('True Positive Rate')  # Label sumbu Y\n",
        "    plt.title('ROC Curve')  # Judul plot\n",
        "    plt.show()  # Menampilkan plot\n"
      ],
      "metadata": {
        "id": "JzAb5l2QrUj0",
        "outputId": "972e5fca-8007-4636-fea1-216a44bfff06",
        "colab": {
          "base_uri": "https://localhost:8080/",
          "height": 574
        }
      },
      "execution_count": 39,
      "outputs": [
        {
          "output_type": "stream",
          "name": "stdout",
          "text": [
            "Membuat ROC Curve...\n"
          ]
        },
        {
          "output_type": "display_data",
          "data": {
            "text/plain": [
              "<Figure size 1000x600 with 1 Axes>"
            ],
            "image/png": "[encoded data removed]"
          },
          "metadata": {}
        }
      ]
    }
  ]
}