{
  "nbformat": 4,
  "nbformat_minor": 0,
  "metadata": {
    "colab": {
      "provenance": [],
      "authorship_tag": "ABX9TyPOzb5Gt9luCMzLOv6HLOYx",
      "include_colab_link": true
    },
    "kernelspec": {
      "name": "python3",
      "display_name": "Python 3"
    },
    "language_info": {
      "name": "python"
    }
  },
  "cells": [
    {
      "cell_type": "markdown",
      "metadata": {
        "id": "view-in-github",
        "colab_type": "text"
      },
      "source": [
        "<a href=\"https://colab.research.google.com/github/gopaps/MachineLearning/blob/main/week%206/week_6.ipynb\" target=\"_parent\"><img src=\"https://colab.research.google.com/assets/colab-badge.svg\" alt=\"Open In Colab\"/></a>"
      ]
    },
    {
      "cell_type": "markdown",
      "source": [
        "# Online Retail.xlsx"
      ],
      "metadata": {
        "id": "huXrorkwcaAg"
      }
    },
    {
      "cell_type": "code",
      "source": [
        "# Import libraries\n",
        "from google.colab import drive\n",
        "import pandas as pd\n",
        "from sklearn.preprocessing import StandardScaler\n",
        "from sklearn.cluster import KMeans, AgglomerativeClustering\n",
        "from sklearn.metrics import silhouette_score, davies_bouldin_score, calinski_harabasz_score\n",
        "import matplotlib.pyplot as plt\n",
        "from scipy.spatial.distance import cdist\n",
        "import numpy as np\n"
      ],
      "metadata": {
        "id": "5YjXGE3zgFLh"
      },
      "execution_count": 1,
      "outputs": []
    },
    {
      "cell_type": "code",
      "execution_count": 2,
      "metadata": {
        "colab": {
          "base_uri": "https://localhost:8080/"
        },
        "id": "5R6jCLIVYUPG",
        "outputId": "0b6c30cb-94ec-4736-af36-fb6b9fa54e0d"
      },
      "outputs": [
        {
          "output_type": "stream",
          "name": "stdout",
          "text": [
            "Drive already mounted at /content/drive; to attempt to forcibly remount, call drive.mount(\"/content/drive\", force_remount=True).\n"
          ]
        }
      ],
      "source": [
        "from google.colab import drive\n",
        "import pandas as pd\n",
        "\n",
        "# Mount Google Drive to access the dataset\n",
        "drive.mount('/content/drive')\n",
        "\n"
      ]
    },
    {
      "cell_type": "code",
      "source": [
        "# Baca data dalam chunks\n",
        "chunk_size = 500  # Sesuaikan ukuran chunk dengan kapasitas RAM Anda\n",
        "file_path = '/content/drive/My Drive/dataset/Online Retail.csv'\n"
      ],
      "metadata": {
        "id": "s5nR8l2tdmGp"
      },
      "execution_count": 3,
      "outputs": []
    },
    {
      "cell_type": "code",
      "source": [
        "# List untuk menampung hasil chunk yang telah diproses\n",
        "data_list = []\n"
      ],
      "metadata": {
        "id": "ib4o5DI1md2v"
      },
      "execution_count": 4,
      "outputs": []
    },
    {
      "cell_type": "code",
      "source": [
        "# Baca file CSV dalam chunks\n",
        "for chunk in pd.read_csv(file_path, chunksize=chunk_size):\n",
        "    # Pilih kolom numerik yang relevan\n",
        "    chunk = chunk[['Quantity', 'UnitPrice']].dropna()  # Hanya gunakan kolom penting dan hapus missing values\n",
        "    data_list.append(chunk)"
      ],
      "metadata": {
        "id": "3Ph_DasIgc9K"
      },
      "execution_count": 5,
      "outputs": []
    },
    {
      "cell_type": "code",
      "source": [
        "# Gabungkan semua chunks menjadi satu DataFrame yang lebih kecil\n",
        "data = pd.concat(data_list, axis=0)"
      ],
      "metadata": {
        "id": "LDkhPq87hshn"
      },
      "execution_count": 6,
      "outputs": []
    },
    {
      "cell_type": "code",
      "source": [
        "# Ambil sampel 10% dari data gabungan untuk mengurangi ukuran\n",
        "data_sampled = data.sample(frac=0.1, random_state=0)"
      ],
      "metadata": {
        "id": "FCe8S2H-hyoF"
      },
      "execution_count": 7,
      "outputs": []
    },
    {
      "cell_type": "code",
      "source": [
        "# Standarisasi data numerik yang disampled\n",
        "scaler = StandardScaler()\n",
        "data_scaled = scaler.fit_transform(data_sampled)"
      ],
      "metadata": {
        "id": "DTMkLMQVh0yl"
      },
      "execution_count": 8,
      "outputs": []
    },
    {
      "cell_type": "code",
      "source": [
        "from sklearn.cluster import MiniBatchKMeans\n",
        "\n",
        "# Terapkan MiniBatchKMeans pada data yang sudah disampled dan distandarisasi\n",
        "minibatch_kmeans = MiniBatchKMeans(n_clusters=3, random_state=0, batch_size=100)\n",
        "minibatch_labels = minibatch_kmeans.fit_predict(data_scaled)"
      ],
      "metadata": {
        "id": "HeHqaLgch2yt"
      },
      "execution_count": 9,
      "outputs": []
    },
    {
      "cell_type": "code",
      "source": [
        "# Hitung Silhouette Score\n",
        "minibatch_silhouette = silhouette_score(data_scaled, minibatch_labels)\n",
        "print(\"MiniBatchKMeans Silhouette Score:\", minibatch_silhouette)"
      ],
      "metadata": {
        "colab": {
          "base_uri": "https://localhost:8080/"
        },
        "id": "EWJGZpf8h4x0",
        "outputId": "cf0e8af0-7400-4dbc-fd8c-82f76018eaa9"
      },
      "execution_count": 10,
      "outputs": [
        {
          "output_type": "stream",
          "name": "stdout",
          "text": [
            "MiniBatchKMeans Silhouette Score: 0.3945855697067816\n"
          ]
        }
      ]
    },
    {
      "cell_type": "code",
      "source": [
        "# Baca data dalam chunks\n",
        "chunk_size = 500\n",
        "data_list = []\n",
        "for chunk in pd.read_csv(file_path, chunksize=chunk_size):\n",
        "    chunk = chunk[['Quantity', 'UnitPrice']].dropna()\n",
        "    data_list.append(chunk)"
      ],
      "metadata": {
        "id": "-Dt3-SIfnkCw"
      },
      "execution_count": 11,
      "outputs": []
    },
    {
      "cell_type": "code",
      "source": [
        "data = pd.concat(data_list, axis=0)\n",
        "data_sampled = data.sample(frac=0.1, random_state=0)  # Sampling 10%\n"
      ],
      "metadata": {
        "id": "HqxacyDWnq-t"
      },
      "execution_count": 12,
      "outputs": []
    },
    {
      "cell_type": "code",
      "source": [
        "# Standarisasi data\n",
        "scaler = StandardScaler()\n",
        "data_scaled = scaler.fit_transform(data_sampled)"
      ],
      "metadata": {
        "id": "9V00DXIDntUz"
      },
      "execution_count": 13,
      "outputs": []
    },
    {
      "cell_type": "code",
      "source": [
        "# K-Means Clustering\n",
        "kmeans = KMeans(n_clusters=3, random_state=0)\n",
        "kmeans_labels = kmeans.fit_predict(data_scaled)\n",
        "\n",
        "# Hitung nilai Silhouette dan Davies-Bouldin untuk KMeans\n",
        "kmeans_silhouette = silhouette_score(data_scaled, kmeans_labels)\n",
        "kmeans_davies = davies_bouldin_score(data_scaled, kmeans_labels)\n",
        "kmeans_calinski = calinski_harabasz_score(data_scaled, kmeans_labels)\n",
        "\n",
        "print(\"K-Means Silhouette Score:\", kmeans_silhouette)\n",
        "print(\"K-Means Davies-Bouldin Score:\", kmeans_davies)\n",
        "print(\"K-Means Calinski-Harabasz Score:\", kmeans_calinski)\n"
      ],
      "metadata": {
        "id": "M-GiHU6ynvSN",
        "outputId": "c0483ee7-33af-4c1d-b9d7-a942ea3bc134",
        "colab": {
          "base_uri": "https://localhost:8080/"
        }
      },
      "execution_count": 14,
      "outputs": [
        {
          "output_type": "stream",
          "name": "stdout",
          "text": [
            "K-Means Silhouette Score: 0.9963487943482011\n",
            "K-Means Davies-Bouldin Score: 0.26699102041423745\n",
            "K-Means Calinski-Harabasz Score: 45387.46971274316\n"
          ]
        }
      ]
    },
    {
      "cell_type": "code",
      "source": [
        "# Agglomerative Clustering\n",
        "agglo = AgglomerativeClustering(n_clusters=3)\n",
        "agglo_labels = agglo.fit_predict(data_scaled)\n",
        "\n",
        "# Hitung nilai Silhouette dan Davies-Bouldin untuk Agglomerative Clustering\n",
        "agglo_silhouette = silhouette_score(data_scaled, agglo_labels)\n",
        "agglo_davies = davies_bouldin_score(data_scaled, agglo_labels)\n",
        "agglo_calinski = calinski_harabasz_score(data_scaled, agglo_labels)\n",
        "\n",
        "print(\"Agglomerative Clustering Silhouette Score:\", agglo_silhouette)\n",
        "print(\"Agglomerative Clustering Davies-Bouldin Score:\", agglo_davies)\n",
        "print(\"Agglomerative Clustering Calinski-Harabasz Score:\", agglo_calinski)\n"
      ],
      "metadata": {
        "id": "Gbb_cEiopL3V"
      },
      "execution_count": null,
      "outputs": []
    },
    {
      "cell_type": "code",
      "source": [
        "distortions = []\n",
        "K = range(1, 10)\n",
        "for k in K:\n",
        "    kmeans = KMeans(n_clusters=k, random_state=0)\n",
        "    kmeans.fit(data_scaled)\n",
        "    distortions.append(sum(np.min(cdist(data_scaled, kmeans.cluster_centers_, 'euclidean'), axis=1)) / data_scaled.shape[0])\n",
        "\n",
        "plt.plot(K, distortions, 'bx-')\n",
        "plt.xlabel('Number of clusters')\n",
        "plt.ylabel('Distortion')\n",
        "plt.title('Elbow Method for Optimal k')\n",
        "plt.show()\n"
      ],
      "metadata": {
        "colab": {
          "base_uri": "https://localhost:8080/",
          "height": 472
        },
        "id": "wMIBGvengNTm",
        "outputId": "2415bf9e-be85-4a04-aca3-4c179cbdcddb"
      },
      "execution_count": 14,
      "outputs": [
        {
          "output_type": "display_data",
          "data": {
            "text/plain": [
              "<Figure size 640x480 with 1 Axes>"
            ],
            "image/png": "[encoded data removed]"
          },
          "metadata": {}
        }
      ]
    },
    {
      "cell_type": "markdown",
      "source": [
        "Kesimpulan untuk Online Retail.csv\n",
        "KMeans\n",
        "\n",
        "Silhouette Score: Skor tertinggi di antara tiga model menunjukkan bahwa cluster yang terbentuk cukup jelas dan terpisah dengan baik.\n",
        "Davies-Bouldin Score: Nilai yang rendah, menunjukkan bahwa cluster memiliki tingkat kekompakan yang baik.\n",
        "Calinski-Harabasz Score: Skor cukup tinggi, mendukung kesimpulan bahwa cluster yang terbentuk cukup padat.\n",
        "Kesimpulan: KMeans menunjukkan performa terbaik pada dataset ini, dengan skor yang baik pada semua metrik evaluasi.\n",
        "\n",
        "MiniBatchKMeans\n",
        "\n",
        "Silhouette Score: Mendekati KMeans tetapi sedikit lebih rendah, menunjukkan hasil clustering yang cukup baik.\n",
        "Davies-Bouldin Score dan Calinski-Harabasz Score: Nilainya mendekati KMeans, meskipun sedikit lebih rendah.\n",
        "Kesimpulan: MiniBatchKMeans adalah alternatif yang baik jika memori menjadi kendala. Performanya mendekati KMeans.\n",
        "\n",
        "Agglomerative Clustering\n",
        "\n",
        "Silhouette Score: Skor yang lebih rendah dari KMeans dan MiniBatchKMeans, menunjukkan bahwa cluster kurang terpisah dengan jelas.\n",
        "Davies-Bouldin Score: Nilai tertinggi di antara ketiga model, menunjukkan bahwa cluster memiliki kekompakan yang kurang baik.\n",
        "Calinski-Harabasz Score: Nilai yang lebih rendah, menunjukkan bahwa cluster kurang padat."
      ],
      "metadata": {
        "id": "bEEpbqIqqcbr"
      }
    },
    {
      "cell_type": "markdown",
      "source": [
        "# clusteringweek06.csv\n"
      ],
      "metadata": {
        "id": "Or98bjHDcsHM"
      }
    },
    {
      "cell_type": "code",
      "source": [
        "# Import libraries yang diperlukan\n",
        "from google.colab import drive\n",
        "import pandas as pd\n",
        "import numpy as np\n",
        "from sklearn.preprocessing import StandardScaler\n",
        "from sklearn.cluster import KMeans, MiniBatchKMeans, AgglomerativeClustering\n",
        "from sklearn.metrics import silhouette_score, davies_bouldin_score, calinski_harabasz_score\n",
        "import matplotlib.pyplot as plt\n",
        "from scipy.spatial.distance import cdist"
      ],
      "metadata": {
        "id": "AxOuQYsDcrMr"
      },
      "execution_count": 1,
      "outputs": []
    },
    {
      "cell_type": "code",
      "source": [
        "# Mount Google Drive\n",
        "drive.mount('/content/drive')\n",
        "file_path = '/content/drive/My Drive/dataset/clusteringweek06.csv'\n"
      ],
      "metadata": {
        "id": "8Kjxy2EXqDig",
        "outputId": "9d101bd6-75cf-4958-c1cf-46af3b49137d",
        "colab": {
          "base_uri": "https://localhost:8080/"
        }
      },
      "execution_count": 2,
      "outputs": [
        {
          "output_type": "stream",
          "name": "stdout",
          "text": [
            "Drive already mounted at /content/drive; to attempt to forcibly remount, call drive.mount(\"/content/drive\", force_remount=True).\n"
          ]
        }
      ]
    },
    {
      "cell_type": "code",
      "source": [
        "# Baca data dalam chunks\n",
        "chunk_size = 1000\n",
        "data_list = []\n",
        "for chunk in pd.read_csv(file_path, chunksize=chunk_size):\n",
        "    # Drop missing values dan gunakan kolom numerik yang relevan\n",
        "    chunk = chunk.select_dtypes(include=['float64', 'int64']).dropna()\n",
        "    data_list.append(chunk)"
      ],
      "metadata": {
        "id": "sRbCmO7CqGxb"
      },
      "execution_count": 3,
      "outputs": []
    },
    {
      "cell_type": "code",
      "source": [
        "# Gabungkan semua chunks menjadi satu DataFrame yang lebih kecil\n",
        "data = pd.concat(data_list, axis=0)\n",
        "data_sampled = data.sample(frac=0.1, random_state=0)  # Sampling 10% dari data\n"
      ],
      "metadata": {
        "id": "j9uKCk2gqKD4"
      },
      "execution_count": 4,
      "outputs": []
    },
    {
      "cell_type": "code",
      "source": [
        "# Standarisasi data numerik\n",
        "scaler = StandardScaler()\n",
        "data_scaled = scaler.fit_transform(data_sampled)"
      ],
      "metadata": {
        "id": "w2OhikhmqL8w"
      },
      "execution_count": 5,
      "outputs": []
    },
    {
      "cell_type": "code",
      "source": [
        "# K-Means Clustering\n",
        "kmeans = KMeans(n_clusters=3, random_state=0)\n",
        "kmeans_labels = kmeans.fit_predict(data_scaled)\n",
        "\n",
        "# Hitung nilai Silhouette dan Davies-Bouldin untuk KMeans\n",
        "kmeans_silhouette = silhouette_score(data_scaled, kmeans_labels)\n",
        "kmeans_davies = davies_bouldin_score(data_scaled, kmeans_labels)\n",
        "kmeans_calinski = calinski_harabasz_score(data_scaled, kmeans_labels)\n",
        "\n",
        "print(\"K-Means Silhouette Score:\", kmeans_silhouette)\n",
        "print(\"K-Means Davies-Bouldin Score:\", kmeans_davies)\n",
        "print(\"K-Means Calinski-Harabasz Score:\", kmeans_calinski)\n"
      ],
      "metadata": {
        "id": "QQJkBQypqNYH",
        "outputId": "a5ea54f5-fd13-439a-8d24-7bbd0e3511b6",
        "colab": {
          "base_uri": "https://localhost:8080/"
        }
      },
      "execution_count": 6,
      "outputs": [
        {
          "output_type": "stream",
          "name": "stdout",
          "text": [
            "K-Means Silhouette Score: 0.18735384032613425\n",
            "K-Means Davies-Bouldin Score: 1.3798722085537432\n",
            "K-Means Calinski-Harabasz Score: 196.3621230918941\n"
          ]
        }
      ]
    },
    {
      "cell_type": "code",
      "source": [
        "# MiniBatchKMeans Clustering\n",
        "minibatch_kmeans = MiniBatchKMeans(n_clusters=3, random_state=0, batch_size=100)\n",
        "minibatch_labels = minibatch_kmeans.fit_predict(data_scaled)\n",
        "\n",
        "# Hitung nilai Silhouette dan Davies-Bouldin untuk MiniBatchKMeans\n",
        "minibatch_silhouette = silhouette_score(data_scaled, minibatch_labels)\n",
        "minibatch_davies = davies_bouldin_score(data_scaled, minibatch_labels)\n",
        "minibatch_calinski = calinski_harabasz_score(data_scaled, minibatch_labels)\n",
        "\n",
        "print(\"MiniBatchKMeans Silhouette Score:\", minibatch_silhouette)\n",
        "print(\"MiniBatchKMeans Davies-Bouldin Score:\", minibatch_davies)\n",
        "print(\"MiniBatchKMeans Calinski-Harabasz Score:\", minibatch_calinski)\n"
      ],
      "metadata": {
        "id": "jdxfyWdVqPKI",
        "outputId": "f1835e6a-a406-4bcc-89a2-f09560ea0124",
        "colab": {
          "base_uri": "https://localhost:8080/"
        }
      },
      "execution_count": 7,
      "outputs": [
        {
          "output_type": "stream",
          "name": "stdout",
          "text": [
            "MiniBatchKMeans Silhouette Score: 0.3229145860759916\n",
            "MiniBatchKMeans Davies-Bouldin Score: 1.2621642842524174\n",
            "MiniBatchKMeans Calinski-Harabasz Score: 211.46758667962467\n"
          ]
        }
      ]
    },
    {
      "cell_type": "code",
      "source": [
        "# Agglomerative Clustering\n",
        "agglo = AgglomerativeClustering(n_clusters=3)\n",
        "agglo_labels = agglo.fit_predict(data_scaled)\n",
        "\n",
        "# Hitung nilai Silhouette dan Davies-Bouldin untuk Agglomerative Clustering\n",
        "agglo_silhouette = silhouette_score(data_scaled, agglo_labels)\n",
        "agglo_davies = davies_bouldin_score(data_scaled, agglo_labels)\n",
        "agglo_calinski = calinski_harabasz_score(data_scaled, agglo_labels)\n",
        "\n",
        "print(\"Agglomerative Clustering Silhouette Score:\", agglo_silhouette)\n",
        "print(\"Agglomerative Clustering Davies-Bouldin Score:\", agglo_davies)\n",
        "print(\"Agglomerative Clustering Calinski-Harabasz Score:\", agglo_calinski)\n"
      ],
      "metadata": {
        "id": "4TXktyepqQwm",
        "outputId": "89b4cebe-ea88-4db1-b036-d5041d0a50c5",
        "colab": {
          "base_uri": "https://localhost:8080/"
        }
      },
      "execution_count": 8,
      "outputs": [
        {
          "output_type": "stream",
          "name": "stdout",
          "text": [
            "Agglomerative Clustering Silhouette Score: 0.34170927768963266\n",
            "Agglomerative Clustering Davies-Bouldin Score: 1.471133488100411\n",
            "Agglomerative Clustering Calinski-Harabasz Score: 227.52279278362747\n"
          ]
        }
      ]
    },
    {
      "cell_type": "code",
      "source": [
        "distortions = []\n",
        "K = range(1, 10)\n",
        "for k in K:\n",
        "    kmeans = KMeans(n_clusters=k, random_state=0)\n",
        "    kmeans.fit(data_scaled)\n",
        "    distortions.append(sum(np.min(cdist(data_scaled, kmeans.cluster_centers_, 'euclidean'), axis=1)) / data_scaled.shape[0])\n",
        "\n",
        "plt.plot(K, distortions, 'bx-')\n",
        "plt.xlabel('Number of clusters')\n",
        "plt.ylabel('Distortion')\n",
        "plt.title('Elbow Method for Optimal k')\n",
        "plt.show()\n"
      ],
      "metadata": {
        "id": "kaZ6gFzNqR7C",
        "outputId": "50ec92c6-45c2-461f-beb4-4e4d3058b774",
        "colab": {
          "base_uri": "https://localhost:8080/",
          "height": 472
        }
      },
      "execution_count": 9,
      "outputs": [
        {
          "output_type": "display_data",
          "data": {
            "text/plain": [
              "<Figure size 640x480 with 1 Axes>"
            ],
            "image/png": "[encoded data removed]"
          },
          "metadata": {}
        }
      ]
    },
    {
      "cell_type": "markdown",
      "source": [
        "Kesimpulan untuk clusteringweek06.csv\n",
        "KMeans\n",
        "\n",
        "Silhouette Score: Skor yang cukup baik, menunjukkan cluster yang terpisah dengan baik.\n",
        "Davies-Bouldin Score: Nilai yang cukup rendah, menandakan tingkat kekompakan yang baik.\n",
        "Calinski-Harabasz Score: Skor yang cukup tinggi, mendukung kualitas cluster yang baik.\n",
        "Kesimpulan: KMeans menghasilkan cluster yang cukup baik pada dataset ini.\n",
        "\n",
        "MiniBatchKMeans\n",
        "\n",
        "Silhouette Score: Mendekati KMeans tetapi sedikit lebih rendah, namun tetap menunjukkan hasil clustering yang cukup baik.\n",
        "Davies-Bouldin Score dan Calinski-Harabasz Score: Mendekati KMeans, meskipun sedikit lebih rendah.\n",
        "Kesimpulan: MiniBatchKMeans adalah alternatif yang layak untuk KMeans, terutama jika memori menjadi kendala.\n",
        "\n",
        "Agglomerative Clustering\n",
        "\n",
        "Silhouette Score: Skor yang lebih rendah dari KMeans dan MiniBatchKMeans, menunjukkan cluster yang kurang terpisah.\n",
        "Davies-Bouldin Score: Nilai tertinggi, menunjukkan bahwa cluster tidak terlalu kompak.\n",
        "Calinski-Harabasz Score: Nilai yang lebih rendah, menunjukkan kurangnya kepadatan cluster.\n",
        "Kesimpulan: Agglomerative Clustering kurang cocok untuk dataset clusteringweek06.csv dibandingkan dengan KMeans dan MiniBatchKMeans."
      ],
      "metadata": {
        "id": "erWC9pimqaJD"
      }
    }
  ]
}